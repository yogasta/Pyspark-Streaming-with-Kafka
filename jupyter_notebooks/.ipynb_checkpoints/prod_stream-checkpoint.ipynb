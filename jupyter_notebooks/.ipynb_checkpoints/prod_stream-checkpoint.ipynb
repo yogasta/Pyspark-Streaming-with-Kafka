{
 "cells": [
  {
   "cell_type": "code",
   "execution_count": null,
   "id": "c68c405c-26d1-47bb-82a4-75586951f0ce",
   "metadata": {},
   "outputs": [],
   "source": [
    "import os\n",
    "from confluent_kafka import Producer\n",
    "import json\n",
    "import random\n",
    "import time\n",
    "from datetime import datetime, timedelta\n",
    "from zoneinfo import ZoneInfo"
   ]
  },
  {
   "cell_type": "code",
   "execution_count": null,
   "id": "f063aa24-b1ea-4842-a071-06def19831e5",
   "metadata": {},
   "outputs": [],
   "source": [
    "# Kafka confiuration\n",
    "kafka_config = {\n",
    "    'bootstrap.servers': 'kafka-1:29092,kafka-2:29093,kafka-3:29094',\n",
    "    }"
   ]
  },
  {
   "cell_type": "code",
   "execution_count": null,
   "id": "4c76abdd-9e01-49a4-b900-863b20498c3a",
   "metadata": {},
   "outputs": [],
   "source": [
    "# Create Producer instance\n",
    "producer = Producer(kafka_config)\n",
    "kafka_topic = 'purchase_event'"
   ]
  },
  {
   "cell_type": "code",
   "execution_count": null,
   "id": "2da577ab-f92e-4c6b-9061-3f26175572e1",
   "metadata": {},
   "outputs": [],
   "source": [
    "def delivery_report(err, msg):\n",
    "    if err is not None:\n",
    "        print(f'Message delivery failed: {err}')\n",
    "    else:\n",
    "        print(f'Message delivered to {msg.topic()} [{msg.partition()}]')"
   ]
  },
  {
   "cell_type": "code",
   "execution_count": null,
   "id": "76d932b9-71fe-45d9-92ff-36d270ada0d4",
   "metadata": {},
   "outputs": [],
   "source": [
    "def generate_purchase_event():\n",
    "    return {\n",
    "        \"timestamp\": datetime.now(ZoneInfo(\"Asia/Bangkok\")).isoformat(),\n",
    "        \"product_id\": random.randint(1, 100),\n",
    "        \"quantity\": random.randint(1, 10),\n",
    "        \"price\": round(random.uniform(10.0, 1000.0), 2)\n",
    "    }"
   ]
  },
  {
   "cell_type": "code",
   "execution_count": null,
   "id": "38dc02cd-3495-42dd-a4e1-34a33c18cd3f",
   "metadata": {},
   "outputs": [],
   "source": [
    "# Loop to send events to Kafka\n",
    "for _ in range(100):\n",
    "    try:\n",
    "        event = generate_purchase_event()\n",
    "        producer.produce(\n",
    "            kafka_topic,\n",
    "            key=str(event['timestamp']),\n",
    "            value=json.dumps(event),\n",
    "            callback=delivery_report\n",
    "        )\n",
    "        print(f\"Sent event: {event}\")\n",
    "        producer.poll(0)  # Trigger any callbacks\n",
    "        time.sleep(random.uniform(5, 10))\n",
    "    except Exception as e:\n",
    "        print(f\"Error sending event: {e}\")\n",
    "        time.sleep(5)  # Wait before retrying\n",
    "\n",
    "# Wait for any outstanding messages to be delivered and delivery reports received\n",
    "producer.flush()"
   ]
  },
  {
   "cell_type": "code",
   "execution_count": null,
   "id": "9106d104-a332-4fe8-b517-ea8503f1796e",
   "metadata": {},
   "outputs": [],
   "source": []
  }
 ],
 "metadata": {
  "kernelspec": {
   "display_name": "Python 3 (ipykernel)",
   "language": "python",
   "name": "python3"
  },
  "language_info": {
   "codemirror_mode": {
    "name": "ipython",
    "version": 3
   },
   "file_extension": ".py",
   "mimetype": "text/x-python",
   "name": "python",
   "nbconvert_exporter": "python",
   "pygments_lexer": "ipython3",
   "version": "3.11.6"
  }
 },
 "nbformat": 4,
 "nbformat_minor": 5
}
