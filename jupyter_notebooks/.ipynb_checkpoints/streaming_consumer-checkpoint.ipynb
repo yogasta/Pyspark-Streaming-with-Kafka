{
 "cells": [
  {
   "cell_type": "code",
   "execution_count": 1,
   "id": "76296786-4b97-498b-bd36-ef3b33ee8226",
   "metadata": {},
   "outputs": [],
   "source": [
    "from pyspark.sql import SparkSession\n",
    "from pyspark.sql.functions import from_json, col, sum, to_timestamp\n",
    "from pyspark.sql.types import StructType, StructField, StringType, IntegerType, DoubleType\n",
    "from datetime import datetime\n",
    "import os\n",
    "import psycopg2"
   ]
  },
  {
   "cell_type": "code",
   "execution_count": null,
   "id": "16feb5a8-b86d-4729-a0da-1082aaf19d9d",
   "metadata": {},
   "outputs": [],
   "source": [
    "# Initialize SparkSession\n",
    "spark = SparkSession.builder \\\n",
    "    .appName(\"PurchaseEventStreaming\") \\\n",
    "    .config(\"spark.jars.packages\", \"org.apache.spark:spark-sql-kafka-0-10_2.12:3.1.2,org.apache.kafka:kafka-clients:2.8.0\") \\\n",
    "    .config(\"spark.streaming.kafka.consumer.cache.enabled\", \"false\") \\\n",
    "    .config(\"spark.sql.streaming.schemaInference\", \"true\") \\\n",
    "    .getOrCreate()"
   ]
  },
  {
   "cell_type": "code",
   "execution_count": 3,
   "id": "9e9cb343-60ee-4823-b6dd-1a76cc91734b",
   "metadata": {},
   "outputs": [],
   "source": [
    "# Define schema for purchase events\n",
    "schema = StructType([\n",
    "    StructField(\"timestamp\", StringType()),\n",
    "    StructField(\"product_id\", IntegerType()),\n",
    "    StructField(\"quantity\", IntegerType()),\n",
    "    StructField(\"price\", DoubleType())\n",
    "])"
   ]
  },
  {
   "cell_type": "code",
   "execution_count": 4,
   "id": "bad1dd8f-3ff8-4f50-a615-5fb2d18c728e",
   "metadata": {},
   "outputs": [],
   "source": [
    "kafka_broker = 'kafka-1:29092,kafka-2:29093,kafka-3:29094'\n",
    "kafka_topic = \"purchase_event\"\n",
    "\n",
    "# PostgreSQL connection details\n",
    "pg_host = \"postgres_container\"\n",
    "pg_db = \"mydb\"\n",
    "pg_user = \"postgres\"\n",
    "pg_password = \"secretpassword\""
   ]
  },
  {
   "cell_type": "code",
   "execution_count": null,
   "id": "30aca54f-3641-4152-99c5-cb2e0b5ea5e9",
   "metadata": {},
   "outputs": [],
   "source": [
    "# Read streaming data from Kafka using Confluent Kafka format\n",
    "df = spark.readStream \\\n",
    "    .format(\"kafka\") \\\n",
    "    .option(\"kafka.bootstrap.servers\", kafka_broker) \\\n",
    "    .option(\"subscribe\", kafka_topic) \\\n",
    "    .option(\"startingOffsets\", \"earliest\") \\\n",
    "    .option(\"kafka.security.protocol\", \"PLAINTEXT\") \\\n",
    "    .load()"
   ]
  },
  {
   "cell_type": "code",
   "execution_count": null,
   "id": "967ba466-737d-43c1-862e-2c40e7d054e6",
   "metadata": {},
   "outputs": [],
   "source": [
    "# Parse JSON from value and process\n",
    "parsed_df = df.select(from_json(col(\"value\").cast(\"string\"), schema).alias(\"data\")).select(\"data.*\")\n",
    "\n",
    "# Calculate monthly sales average\n",
    "sales_data = parsed_df \\\n",
    "    .withColumn(\"timestamp\", to_date(\"timestamp\")) \\\n",
    "    .groupBy(\"timestamp\") \\\n",
    "    .agg(sum(col(\"quantity\") * col(\"price\")).alias(\"total_sales\"))"
   ]
  },
  {
   "cell_type": "code",
   "execution_count": null,
   "id": "aa2d1359-dc86-49f6-8ed8-8c1a4ec58930",
   "metadata": {},
   "outputs": [],
   "source": [
    "query = sales_data.writeStream \\\n",
    "    .format(\"console\") \\\n",
    "    .outputMode(\"complete\") \\\n",
    "    .trigger(processingTime= '5 seconds') \\\n",
    "    .foreachBatch(save_to_postgres) \\\n",
    "    .start()\n",
    "\n",
    "query.awaitTermination()"
   ]
  },
  {
   "cell_type": "code",
   "execution_count": null,
   "id": "51e891d5-a9fd-4c1c-8917-9fd9d3047ec6",
   "metadata": {},
   "outputs": [],
   "source": []
  }
 ],
 "metadata": {
  "kernelspec": {
   "display_name": "Python 3 (ipykernel)",
   "language": "python",
   "name": "python3"
  },
  "language_info": {
   "codemirror_mode": {
    "name": "ipython",
    "version": 3
   },
   "file_extension": ".py",
   "mimetype": "text/x-python",
   "name": "python",
   "nbconvert_exporter": "python",
   "pygments_lexer": "ipython3",
   "version": "3.11.6"
  }
 },
 "nbformat": 4,
 "nbformat_minor": 5
}
