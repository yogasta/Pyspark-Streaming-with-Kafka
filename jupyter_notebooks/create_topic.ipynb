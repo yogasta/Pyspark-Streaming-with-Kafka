{
 "cells": [
  {
   "cell_type": "code",
   "execution_count": 1,
   "id": "c026ec93-8c37-432b-8088-90f59a15812a",
   "metadata": {},
   "outputs": [],
   "source": [
    "from confluent_kafka.admin import AdminClient, NewTopic, NewPartitions\n",
    "from confluent_kafka.error import KafkaException"
   ]
  },
  {
   "cell_type": "code",
   "execution_count": 2,
   "id": "535dee7b-77f4-4fbe-85cb-7b86cfbaef99",
   "metadata": {},
   "outputs": [],
   "source": [
    "def create_topic(topic_name, num_partitions, replication_factor):\n",
    "    admin_client = AdminClient({'bootstrap.servers': 'kafka-1:29092,kafka-2:29093,kafka-3:29094'})\n",
    "    \n",
    "    new_topic = NewTopic(\n",
    "        topic_name,\n",
    "        num_partitions=num_partitions,\n",
    "        replication_factor=replication_factor\n",
    "    )\n",
    "    fs = admin_client.create_topics([new_topic])\n",
    "    \n",
    "    for topic, f in fs.items():\n",
    "        try:\n",
    "            f.result()\n",
    "            print(f\"Topic {topic} created with {num_partitions} partitions and replication factor {replication_factor}\")\n",
    "        except KafkaException as e:\n",
    "            print(f\"Failed to create topic {topic}: {e}\")"
   ]
  },
  {
   "cell_type": "code",
   "execution_count": 3,
   "id": "234bb535-30da-4a00-8463-d9902babb024",
   "metadata": {},
   "outputs": [],
   "source": [
    "def manage_partitions(topic_name, num_partitions):\n",
    "    admin_client = AdminClient({'bootstrap.servers': 'kafka-1:29092,kafka-2:29093,kafka-3:29094'})\n",
    "    \n",
    "    existing_topics = admin_client.list_topics(timeout=10).topics\n",
    "    \n",
    "    if topic_name not in existing_topics:\n",
    "        print(f\"Topic {topic_name} does not exist. Cannot manage partitions.\")\n",
    "        return\n",
    "    \n",
    "    current_partitions = len(existing_topics[topic_name].partitions)\n",
    "    \n",
    "    if num_partitions > current_partitions:\n",
    "        new_partitions = NewPartitions(topic_name, num_partitions)\n",
    "        fs = admin_client.create_partitions([new_partitions])\n",
    "        \n",
    "        for topic, f in fs.items():\n",
    "            try:\n",
    "                f.result()\n",
    "                print(f\"Updated {topic} to {num_partitions} partitions\")\n",
    "            except KafkaException as e:\n",
    "                print(f\"Failed to update partitions for topic {topic}: {e}\")\n",
    "    elif num_partitions < current_partitions:\n",
    "        print(f\"Cannot decrease partitions. Current: {current_partitions}, Requested: {num_partitions}\")\n",
    "    else:\n",
    "        print(f\"No change in partitions. Current: {current_partitions}\")\n",
    "\n",
    "    final_partitions = len(admin_client.list_topics(topic=topic_name).topics[topic_name].partitions)\n",
    "    print(f\"Topic {topic_name} final partition count: {final_partitions}\")"
   ]
  },
  {
   "cell_type": "code",
   "execution_count": 4,
   "id": "650817b8-6e78-4d40-8385-0a3c096925de",
   "metadata": {},
   "outputs": [
    {
     "name": "stdout",
     "output_type": "stream",
     "text": [
      "Topic purchase_event created with 6 partitions and replication factor 2\n"
     ]
    }
   ],
   "source": [
    "create_topic('purchase_event', 6,2)"
   ]
  },
  {
   "cell_type": "code",
   "execution_count": null,
   "id": "916accf8-0aa5-43a9-a8fa-a29b679332a1",
   "metadata": {},
   "outputs": [],
   "source": []
  }
 ],
 "metadata": {
  "kernelspec": {
   "display_name": "Python 3 (ipykernel)",
   "language": "python",
   "name": "python3"
  },
  "language_info": {
   "codemirror_mode": {
    "name": "ipython",
    "version": 3
   },
   "file_extension": ".py",
   "mimetype": "text/x-python",
   "name": "python",
   "nbconvert_exporter": "python",
   "pygments_lexer": "ipython3",
   "version": "3.11.6"
  }
 },
 "nbformat": 4,
 "nbformat_minor": 5
}
