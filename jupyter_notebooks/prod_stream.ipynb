{
 "cells": [
  {
   "cell_type": "code",
   "execution_count": 1,
   "id": "c68c405c-26d1-47bb-82a4-75586951f0ce",
   "metadata": {},
   "outputs": [],
   "source": [
    "import os\n",
    "from confluent_kafka import Producer\n",
    "import json\n",
    "import random\n",
    "import time\n",
    "from datetime import datetime, timedelta"
   ]
  },
  {
   "cell_type": "code",
   "execution_count": 2,
   "id": "f063aa24-b1ea-4842-a071-06def19831e5",
   "metadata": {},
   "outputs": [],
   "source": [
    "# Kafka confiuration\n",
    "kafka_config = {\n",
    "    'bootstrap.servers': 'kafka-1:29092,kafka-2:29093,kafka-3:29094',\n",
    "    }"
   ]
  },
  {
   "cell_type": "code",
   "execution_count": 3,
   "id": "4c76abdd-9e01-49a4-b900-863b20498c3a",
   "metadata": {},
   "outputs": [],
   "source": [
    "# Create Producer instance\n",
    "producer = Producer(kafka_config)\n",
    "kafka_topic = 'purchase_event'"
   ]
  },
  {
   "cell_type": "code",
   "execution_count": 4,
   "id": "2da577ab-f92e-4c6b-9061-3f26175572e1",
   "metadata": {},
   "outputs": [],
   "source": [
    "def delivery_report(err, msg):\n",
    "    if err is not None:\n",
    "        print(f'Message delivery failed: {err}')\n",
    "    else:\n",
    "        print(f'Message delivered to {msg.topic()} [{msg.partition()}]')"
   ]
  },
  {
   "cell_type": "code",
   "execution_count": 5,
   "id": "76d932b9-71fe-45d9-92ff-36d270ada0d4",
   "metadata": {},
   "outputs": [],
   "source": [
    "def generate_purchase_event():\n",
    "    return {\n",
    "        \"timestamp\": datetime.now().isoformat(),\n",
    "        \"product_id\": random.randint(1, 100),\n",
    "        \"quantity\": random.randint(1, 10),\n",
    "        \"price\": round(random.uniform(10.0, 1000.0), 2)\n",
    "    }"
   ]
  },
  {
   "cell_type": "code",
   "execution_count": null,
   "id": "38dc02cd-3495-42dd-a4e1-34a33c18cd3f",
   "metadata": {
    "scrolled": true
   },
   "outputs": [
    {
     "name": "stdout",
     "output_type": "stream",
     "text": [
      "Sent event: {'timestamp': '2024-09-08T12:53:23.713275', 'product_id': 33, 'quantity': 4, 'price': 563.46}\n",
      "Sent event: {'timestamp': '2024-09-08T12:53:31.032281', 'product_id': 53, 'quantity': 9, 'price': 269.2}\n",
      "Message delivered to purchase_event [4]\n",
      "Sent event: {'timestamp': '2024-09-08T12:53:37.403489', 'product_id': 34, 'quantity': 3, 'price': 583.13}\n",
      "Message delivered to purchase_event [5]\n",
      "Sent event: {'timestamp': '2024-09-08T12:53:44.004831', 'product_id': 68, 'quantity': 6, 'price': 699.07}\n",
      "Message delivered to purchase_event [3]\n",
      "Sent event: {'timestamp': '2024-09-08T12:53:49.519173', 'product_id': 92, 'quantity': 10, 'price': 528.91}\n",
      "Message delivered to purchase_event [5]\n",
      "Sent event: {'timestamp': '2024-09-08T12:53:57.918449', 'product_id': 75, 'quantity': 1, 'price': 957.25}\n",
      "Message delivered to purchase_event [5]\n",
      "Sent event: {'timestamp': '2024-09-08T12:54:05.481961', 'product_id': 81, 'quantity': 7, 'price': 429.31}\n",
      "Message delivered to purchase_event [4]\n",
      "Sent event: {'timestamp': '2024-09-08T12:54:15.433594', 'product_id': 51, 'quantity': 7, 'price': 941.26}\n",
      "Message delivered to purchase_event [5]\n",
      "Sent event: {'timestamp': '2024-09-08T12:54:23.612054', 'product_id': 85, 'quantity': 9, 'price': 163.25}\n",
      "Message delivered to purchase_event [4]\n",
      "Sent event: {'timestamp': '2024-09-08T12:54:29.666998', 'product_id': 53, 'quantity': 7, 'price': 678.76}\n",
      "Message delivered to purchase_event [1]\n",
      "Sent event: {'timestamp': '2024-09-08T12:54:39.018067', 'product_id': 98, 'quantity': 4, 'price': 87.19}\n",
      "Message delivered to purchase_event [4]\n",
      "Sent event: {'timestamp': '2024-09-08T12:54:48.195863', 'product_id': 77, 'quantity': 2, 'price': 826.21}\n",
      "Message delivered to purchase_event [4]\n",
      "Sent event: {'timestamp': '2024-09-08T12:54:57.838627', 'product_id': 47, 'quantity': 7, 'price': 387.41}\n",
      "Message delivered to purchase_event [1]\n",
      "Sent event: {'timestamp': '2024-09-08T12:55:04.530831', 'product_id': 8, 'quantity': 3, 'price': 689.25}\n",
      "Message delivered to purchase_event [1]\n",
      "Sent event: {'timestamp': '2024-09-08T12:55:11.510031', 'product_id': 55, 'quantity': 2, 'price': 495.11}\n",
      "Message delivered to purchase_event [4]\n",
      "Sent event: {'timestamp': '2024-09-08T12:55:20.451665', 'product_id': 53, 'quantity': 1, 'price': 938.47}\n",
      "Message delivered to purchase_event [3]\n"
     ]
    }
   ],
   "source": [
    "# Loop to send events to Kafka\n",
    "for _ in range(100):\n",
    "    try:\n",
    "        event = generate_purchase_event()\n",
    "        producer.produce(\n",
    "            kafka_topic,\n",
    "            key=str(event['timestamp']),\n",
    "            value=json.dumps(event),\n",
    "            callback=delivery_report\n",
    "        )\n",
    "        print(f\"Sent event: {event}\")\n",
    "        producer.poll(0)  # Trigger any callbacks\n",
    "        time.sleep(random.uniform(5, 10))\n",
    "    except Exception as e:\n",
    "        print(f\"Error sending event: {e}\")\n",
    "        time.sleep(5)  # Wait before retrying\n",
    "\n",
    "# Wait for any outstanding messages to be delivered and delivery reports received\n",
    "producer.flush()"
   ]
  },
  {
   "cell_type": "code",
   "execution_count": null,
   "id": "9106d104-a332-4fe8-b517-ea8503f1796e",
   "metadata": {},
   "outputs": [],
   "source": []
  }
 ],
 "metadata": {
  "kernelspec": {
   "display_name": "Python 3 (ipykernel)",
   "language": "python",
   "name": "python3"
  },
  "language_info": {
   "codemirror_mode": {
    "name": "ipython",
    "version": 3
   },
   "file_extension": ".py",
   "mimetype": "text/x-python",
   "name": "python",
   "nbconvert_exporter": "python",
   "pygments_lexer": "ipython3",
   "version": "3.11.6"
  }
 },
 "nbformat": 4,
 "nbformat_minor": 5
}
