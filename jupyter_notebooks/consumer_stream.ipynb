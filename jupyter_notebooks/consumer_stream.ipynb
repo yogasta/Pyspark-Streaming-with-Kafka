{
 "cells": [
  {
   "cell_type": "code",
   "execution_count": 1,
   "id": "f327097b-87cf-41a0-a082-d86d18bc233e",
   "metadata": {},
   "outputs": [],
   "source": [
    "from pyspark.sql import SparkSession\n",
    "from pyspark.sql.functions import from_json, col, sum, to_timestamp, window\n",
    "from pyspark.sql.types import StructType, StructField, StringType, IntegerType, DoubleType\n",
    "from datetime import datetime\n",
    "import psycopg2\n",
    "import os"
   ]
  },
  {
   "cell_type": "code",
   "execution_count": 2,
   "id": "1afec34c-d58b-4d13-b678-473f5e2c9515",
   "metadata": {},
   "outputs": [
    {
     "name": "stdout",
     "output_type": "stream",
     "text": [
      ":: loading settings :: url = jar:file:/opt/spark/jars/ivy-2.5.1.jar!/org/apache/ivy/core/settings/ivysettings.xml\n"
     ]
    },
    {
     "name": "stderr",
     "output_type": "stream",
     "text": [
      "Ivy Default Cache set to: /home/jovyan/.ivy2/cache\n",
      "The jars for the packages stored in: /home/jovyan/.ivy2/jars\n",
      "org.apache.spark#spark-sql-kafka-0-10_2.12 added as a dependency\n",
      "org.apache.kafka#kafka-clients added as a dependency\n",
      ":: resolving dependencies :: org.apache.spark#spark-submit-parent-ef693dfe-945e-4c3c-9dbf-d3fd95dce410;1.0\n",
      "\tconfs: [default]\n",
      "\tfound org.apache.spark#spark-sql-kafka-0-10_2.12;3.1.2 in central\n",
      "\tfound org.apache.spark#spark-token-provider-kafka-0-10_2.12;3.1.2 in central\n",
      "\tfound org.spark-project.spark#unused;1.0.0 in central\n",
      "\tfound org.apache.commons#commons-pool2;2.6.2 in central\n",
      "\tfound org.apache.kafka#kafka-clients;2.8.0 in central\n",
      "\tfound com.github.luben#zstd-jni;1.4.9-1 in central\n",
      "\tfound org.lz4#lz4-java;1.7.1 in central\n",
      "\tfound org.xerial.snappy#snappy-java;1.1.8.1 in central\n",
      "\tfound org.slf4j#slf4j-api;1.7.30 in central\n",
      ":: resolution report :: resolve 162ms :: artifacts dl 6ms\n",
      "\t:: modules in use:\n",
      "\tcom.github.luben#zstd-jni;1.4.9-1 from central in [default]\n",
      "\torg.apache.commons#commons-pool2;2.6.2 from central in [default]\n",
      "\torg.apache.kafka#kafka-clients;2.8.0 from central in [default]\n",
      "\torg.apache.spark#spark-sql-kafka-0-10_2.12;3.1.2 from central in [default]\n",
      "\torg.apache.spark#spark-token-provider-kafka-0-10_2.12;3.1.2 from central in [default]\n",
      "\torg.lz4#lz4-java;1.7.1 from central in [default]\n",
      "\torg.slf4j#slf4j-api;1.7.30 from central in [default]\n",
      "\torg.spark-project.spark#unused;1.0.0 from central in [default]\n",
      "\torg.xerial.snappy#snappy-java;1.1.8.1 from central in [default]\n",
      "\t:: evicted modules:\n",
      "\torg.apache.kafka#kafka-clients;2.6.0 by [org.apache.kafka#kafka-clients;2.8.0] in [default]\n",
      "\t---------------------------------------------------------------------\n",
      "\t|                  |            modules            ||   artifacts   |\n",
      "\t|       conf       | number| search|dwnlded|evicted|| number|dwnlded|\n",
      "\t---------------------------------------------------------------------\n",
      "\t|      default     |   10  |   0   |   0   |   1   ||   9   |   0   |\n",
      "\t---------------------------------------------------------------------\n",
      ":: retrieving :: org.apache.spark#spark-submit-parent-ef693dfe-945e-4c3c-9dbf-d3fd95dce410\n",
      "\tconfs: [default]\n",
      "\t0 artifacts copied, 9 already retrieved (0kB/4ms)\n",
      "24/09/08 12:02:05 WARN NativeCodeLoader: Unable to load native-hadoop library for your platform... using builtin-java classes where applicable\n",
      "Setting default log level to \"WARN\".\n",
      "To adjust logging level use sc.setLogLevel(newLevel). For SparkR, use setLogLevel(newLevel).\n"
     ]
    }
   ],
   "source": [
    "# Initialize SparkSession\n",
    "spark = SparkSession.builder \\\n",
    "    .appName(\"PurchaseEventStreaming\") \\\n",
    "    .config(\"spark.jars.packages\", \"org.apache.spark:spark-sql-kafka-0-10_2.12:3.1.2,org.apache.kafka:kafka-clients:2.8.0\") \\\n",
    "    .config(\"spark.streaming.kafka.consumer.cache.enabled\", \"false\") \\\n",
    "    .config(\"spark.sql.streaming.schemaInference\", \"true\") \\\n",
    "    .getOrCreate()"
   ]
  },
  {
   "cell_type": "code",
   "execution_count": 5,
   "id": "cbcc5d5c-6b8b-4e00-b414-6675d0695236",
   "metadata": {},
   "outputs": [],
   "source": [
    "# Define schema for purchase events\n",
    "schema = StructType([\n",
    "    StructField(\"timestamp\", StringType()),\n",
    "    StructField(\"product_id\", IntegerType()),\n",
    "    StructField(\"quantity\", IntegerType()),\n",
    "    StructField(\"price\", DoubleType())\n",
    "])"
   ]
  },
  {
   "cell_type": "code",
   "execution_count": 10,
   "id": "1000e565-aafb-40fe-b371-c196747fc82b",
   "metadata": {},
   "outputs": [],
   "source": [
    "kafka_broker = os.environ.get('KAFKA_BROKER')\n",
    "kafka_topic = \"purchase_event\"\n",
    "\n",
    "# PostgreSQL connection details\n",
    "pg_host = os.environ.get('POSTGRES_HOST')\n",
    "pg_db = os.environ.get('POSTGRES_DB')\n",
    "pg_user = os.environ.get('POSTGRES_USER')\n",
    "pg_password = os.environ.get('POSTGRES_PASSWORD')"
   ]
  },
  {
   "cell_type": "code",
   "execution_count": 11,
   "id": "09f90563-721e-444a-a905-0454640d971a",
   "metadata": {},
   "outputs": [],
   "source": [
    "def save_to_postgres(df, epoch_id):\n",
    "    # Create a connection to PostgreSQL\n",
    "    conn = psycopg2.connect(host=pg_host, database=pg_db, user=pg_user, password=pg_password)\n",
    "    cur = conn.cursor()\n",
    "\n",
    "    # Create table if not exists\n",
    "    cur.execute(\"\"\"\n",
    "    CREATE TABLE IF NOT EXISTS running_total (\n",
    "        timestamp TIMESTAMP PRIMARY KEY,\n",
    "        running_total DOUBLE PRECISION\n",
    "    )\n",
    "    \"\"\")\n",
    "\n",
    "    # Insert or update data\n",
    "    print(f\"\\n--- Running Total Updated at {datetime.now()} ---\")\n",
    "    print(\"Timestamp | Running Total\")\n",
    "    print(\"-----------+---------------\")\n",
    "    for row in df.collect():\n",
    "        window_end = row.window_end\n",
    "        running_total = row.running_total\n",
    "        \n",
    "        if window_end is not None and running_total is not None:\n",
    "            cur.execute(\"\"\"\n",
    "            INSERT INTO running_total (timestamp, running_total)\n",
    "            VALUES (%s, %s)\n",
    "            ON CONFLICT (timestamp) DO UPDATE\n",
    "            SET running_total = EXCLUDED.running_total\n",
    "            \"\"\", (window_end, running_total))\n",
    "            \n",
    "            print(f\"{window_end} | {running_total:.2f}\")\n",
    "        else:\n",
    "            print(f\"Skipping row due to None values: window_end={window_end}, running_total={running_total}\")\n",
    "\n",
    "    # Commit and close\n",
    "    conn.commit()\n",
    "    cur.close()\n",
    "    conn.close()\n",
    "    \n",
    "    print(\"\\n\")"
   ]
  },
  {
   "cell_type": "code",
   "execution_count": 12,
   "id": "bdb3b2c1-9a22-45a5-a38b-b48ab03c9402",
   "metadata": {},
   "outputs": [],
   "source": [
    "# Read streaming data from Kafka\n",
    "df = spark.readStream \\\n",
    "    .format(\"kafka\") \\\n",
    "    .option(\"kafka.bootstrap.servers\", kafka_broker) \\\n",
    "    .option(\"subscribe\", kafka_topic) \\\n",
    "    .option(\"startingOffsets\", \"earliest\") \\\n",
    "    .option(\"kafka.security.protocol\", \"PLAINTEXT\") \\\n",
    "    .load()\n",
    "\n",
    "# Parse JSON from value and process\n",
    "parsed_df = df.select(\n",
    "    from_json(col(\"value\").cast(\"string\"), schema).alias(\"data\")\n",
    ").select(\"data.*\")"
   ]
  },
  {
   "cell_type": "code",
   "execution_count": 13,
   "id": "d28476e3-b3ca-427a-b4ff-b751655a1509",
   "metadata": {},
   "outputs": [],
   "source": [
    "# Convert timestamp to proper format and calculate running total\n",
    "sales_df = parsed_df \\\n",
    "    .withColumn(\"timestamp\", to_timestamp(\"timestamp\")) \\\n",
    "    .withColumn(\"sales\", col(\"quantity\") * col(\"price\")) \\\n",
    "    .groupBy(window(\"timestamp\", \"1 day\")) \\\n",
    "    .agg(sum(\"sales\").alias(\"running_total\")) \\\n",
    "    .select(\n",
    "        col(\"window.end\").alias(\"window_end\"),\n",
    "        col(\"running_total\")\n",
    "    )"
   ]
  },
  {
   "cell_type": "code",
   "execution_count": null,
   "id": "cee0ee4d-064a-45d4-a5d0-b3fe2ed92ce5",
   "metadata": {},
   "outputs": [
    {
     "name": "stderr",
     "output_type": "stream",
     "text": [
      "24/09/08 12:02:36 WARN ResolveWriteToStream: Temporary checkpoint location created which is deleted normally when the query didn't fail: /tmp/temporary-1159a6f1-0bf7-4ffc-b885-5ab2c6cf085a. If it's required to delete it under any circumstances, please set spark.sql.streaming.forceDeleteTempCheckpointLocation to true. Important to know deleting temp checkpoint folder is best effort.\n",
      "24/09/08 12:02:36 WARN ResolveWriteToStream: spark.sql.adaptive.enabled is not supported in streaming DataFrames/Datasets and will be disabled.\n",
      "24/09/08 12:02:36 WARN AdminClientConfig: The configuration 'key.deserializer' was supplied but isn't a known config.\n",
      "24/09/08 12:02:36 WARN AdminClientConfig: The configuration 'value.deserializer' was supplied but isn't a known config.\n",
      "24/09/08 12:02:36 WARN AdminClientConfig: The configuration 'enable.auto.commit' was supplied but isn't a known config.\n",
      "24/09/08 12:02:36 WARN AdminClientConfig: The configuration 'max.poll.records' was supplied but isn't a known config.\n",
      "24/09/08 12:02:36 WARN AdminClientConfig: The configuration 'auto.offset.reset' was supplied but isn't a known config.\n"
     ]
    },
    {
     "name": "stdout",
     "output_type": "stream",
     "text": [
      "\n",
      "--- Running Total Updated at 2024-09-08 12:02:37.598939 ---\n",
      "Timestamp | Running Total\n",
      "-----------+---------------\n"
     ]
    },
    {
     "name": "stderr",
     "output_type": "stream",
     "text": [
      "                                                                                \r"
     ]
    },
    {
     "name": "stdout",
     "output_type": "stream",
     "text": [
      "2024-09-09 00:00:00 | 22504.11\n",
      "\n",
      "\n",
      "\n",
      "--- Running Total Updated at 2024-09-08 12:02:50.106909 ---\n",
      "Timestamp | Running Total\n",
      "-----------+---------------\n"
     ]
    },
    {
     "name": "stderr",
     "output_type": "stream",
     "text": [
      "                                                                                \r"
     ]
    },
    {
     "name": "stdout",
     "output_type": "stream",
     "text": [
      "2024-09-09 00:00:00 | 28978.13\n",
      "\n",
      "\n",
      "\n",
      "--- Running Total Updated at 2024-09-08 12:03:00.097060 ---\n",
      "Timestamp | Running Total\n",
      "-----------+---------------\n"
     ]
    },
    {
     "name": "stderr",
     "output_type": "stream",
     "text": [
      "                                                                                \r"
     ]
    },
    {
     "name": "stdout",
     "output_type": "stream",
     "text": [
      "2024-09-09 00:00:00 | 29250.57\n",
      "\n",
      "\n",
      "\n",
      "--- Running Total Updated at 2024-09-08 12:03:10.090399 ---\n",
      "Timestamp | Running Total\n",
      "-----------+---------------\n"
     ]
    },
    {
     "name": "stderr",
     "output_type": "stream",
     "text": [
      "                                                                                \r"
     ]
    },
    {
     "name": "stdout",
     "output_type": "stream",
     "text": [
      "2024-09-09 00:00:00 | 30832.33\n",
      "\n",
      "\n",
      "\n",
      "--- Running Total Updated at 2024-09-08 12:03:20.082268 ---\n",
      "Timestamp | Running Total\n",
      "-----------+---------------\n"
     ]
    },
    {
     "name": "stderr",
     "output_type": "stream",
     "text": [
      "                                                                                \r"
     ]
    },
    {
     "name": "stdout",
     "output_type": "stream",
     "text": [
      "2024-09-09 00:00:00 | 33094.15\n",
      "\n",
      "\n",
      "\n",
      "--- Running Total Updated at 2024-09-08 12:03:30.077674 ---\n",
      "Timestamp | Running Total\n",
      "-----------+---------------\n"
     ]
    },
    {
     "name": "stderr",
     "output_type": "stream",
     "text": [
      "                                                                                \r"
     ]
    },
    {
     "name": "stdout",
     "output_type": "stream",
     "text": [
      "2024-09-09 00:00:00 | 41067.17\n",
      "\n",
      "\n",
      "\n",
      "--- Running Total Updated at 2024-09-08 12:03:40.075699 ---\n",
      "Timestamp | Running Total\n",
      "-----------+---------------\n"
     ]
    },
    {
     "name": "stderr",
     "output_type": "stream",
     "text": [
      "                                                                                \r"
     ]
    },
    {
     "name": "stdout",
     "output_type": "stream",
     "text": [
      "2024-09-09 00:00:00 | 48181.81\n",
      "\n",
      "\n",
      "\n",
      "--- Running Total Updated at 2024-09-08 12:03:50.078862 ---\n",
      "Timestamp | Running Total\n",
      "-----------+---------------\n"
     ]
    },
    {
     "name": "stderr",
     "output_type": "stream",
     "text": [
      "                                                                                \r"
     ]
    },
    {
     "name": "stdout",
     "output_type": "stream",
     "text": [
      "2024-09-09 00:00:00 | 52504.13\n",
      "\n",
      "\n",
      "\n",
      "--- Running Total Updated at 2024-09-08 12:04:00.084342 ---\n",
      "Timestamp | Running Total\n",
      "-----------+---------------\n"
     ]
    },
    {
     "name": "stderr",
     "output_type": "stream",
     "text": [
      "                                                                                \r"
     ]
    },
    {
     "name": "stdout",
     "output_type": "stream",
     "text": [
      "2024-09-09 00:00:00 | 54451.79\n",
      "\n",
      "\n",
      "\n",
      "--- Running Total Updated at 2024-09-08 12:04:10.076751 ---\n",
      "Timestamp | Running Total\n",
      "-----------+---------------\n"
     ]
    },
    {
     "name": "stderr",
     "output_type": "stream",
     "text": [
      "                                                                                \r"
     ]
    },
    {
     "name": "stdout",
     "output_type": "stream",
     "text": [
      "2024-09-09 00:00:00 | 57006.91\n",
      "\n",
      "\n",
      "\n",
      "--- Running Total Updated at 2024-09-08 12:04:20.069216 ---\n",
      "Timestamp | Running Total\n",
      "-----------+---------------\n"
     ]
    },
    {
     "name": "stderr",
     "output_type": "stream",
     "text": [
      "                                                                                \r"
     ]
    },
    {
     "name": "stdout",
     "output_type": "stream",
     "text": [
      "2024-09-09 00:00:00 | 66938.41\n",
      "\n",
      "\n",
      "\n",
      "--- Running Total Updated at 2024-09-08 12:04:30.085859 ---\n",
      "Timestamp | Running Total\n",
      "-----------+---------------\n"
     ]
    },
    {
     "name": "stderr",
     "output_type": "stream",
     "text": [
      "                                                                                \r"
     ]
    },
    {
     "name": "stdout",
     "output_type": "stream",
     "text": [
      "2024-09-09 00:00:00 | 70312.27\n",
      "\n",
      "\n",
      "\n",
      "--- Running Total Updated at 2024-09-08 12:04:40.070814 ---\n",
      "Timestamp | Running Total\n",
      "-----------+---------------\n"
     ]
    },
    {
     "name": "stderr",
     "output_type": "stream",
     "text": [
      "                                                                                \r"
     ]
    },
    {
     "name": "stdout",
     "output_type": "stream",
     "text": [
      "2024-09-09 00:00:00 | 75095.45\n",
      "\n",
      "\n",
      "\n",
      "--- Running Total Updated at 2024-09-08 12:04:50.067079 ---\n",
      "Timestamp | Running Total\n",
      "-----------+---------------\n"
     ]
    },
    {
     "name": "stderr",
     "output_type": "stream",
     "text": [
      "                                                                                \r"
     ]
    },
    {
     "name": "stdout",
     "output_type": "stream",
     "text": [
      "2024-09-09 00:00:00 | 76639.11\n",
      "\n",
      "\n",
      "\n",
      "--- Running Total Updated at 2024-09-08 12:05:00.101977 ---\n",
      "Timestamp | Running Total\n",
      "-----------+---------------\n"
     ]
    },
    {
     "name": "stderr",
     "output_type": "stream",
     "text": [
      "                                                                                \r"
     ]
    },
    {
     "name": "stdout",
     "output_type": "stream",
     "text": [
      "2024-09-09 00:00:00 | 83026.47\n",
      "\n",
      "\n",
      "\n",
      "--- Running Total Updated at 2024-09-08 12:05:10.064338 ---\n",
      "Timestamp | Running Total\n",
      "-----------+---------------\n"
     ]
    },
    {
     "name": "stderr",
     "output_type": "stream",
     "text": [
      "                                                                                \r"
     ]
    },
    {
     "name": "stdout",
     "output_type": "stream",
     "text": [
      "2024-09-09 00:00:00 | 83541.37\n",
      "\n",
      "\n",
      "\n",
      "--- Running Total Updated at 2024-09-08 12:05:20.068195 ---\n",
      "Timestamp | Running Total\n",
      "-----------+---------------\n"
     ]
    },
    {
     "name": "stderr",
     "output_type": "stream",
     "text": [
      "                                                                                \r"
     ]
    },
    {
     "name": "stdout",
     "output_type": "stream",
     "text": [
      "2024-09-09 00:00:00 | 88764.49\n",
      "\n",
      "\n",
      "\n",
      "--- Running Total Updated at 2024-09-08 12:05:30.065485 ---\n",
      "Timestamp | Running Total\n",
      "-----------+---------------\n"
     ]
    },
    {
     "name": "stderr",
     "output_type": "stream",
     "text": [
      "                                                                                \r"
     ]
    },
    {
     "name": "stdout",
     "output_type": "stream",
     "text": [
      "2024-09-09 00:00:00 | 90036.94\n",
      "\n",
      "\n",
      "\n",
      "--- Running Total Updated at 2024-09-08 12:05:40.070821 ---\n",
      "Timestamp | Running Total\n",
      "-----------+---------------\n"
     ]
    },
    {
     "name": "stderr",
     "output_type": "stream",
     "text": [
      "                                                                                \r"
     ]
    },
    {
     "name": "stdout",
     "output_type": "stream",
     "text": [
      "2024-09-09 00:00:00 | 92770.72\n",
      "\n",
      "\n",
      "\n",
      "--- Running Total Updated at 2024-09-08 12:05:50.069411 ---\n",
      "Timestamp | Running Total\n",
      "-----------+---------------\n"
     ]
    },
    {
     "name": "stderr",
     "output_type": "stream",
     "text": [
      "                                                                                \r"
     ]
    },
    {
     "name": "stdout",
     "output_type": "stream",
     "text": [
      "2024-09-09 00:00:00 | 97344.32\n",
      "\n",
      "\n",
      "\n",
      "--- Running Total Updated at 2024-09-08 12:06:00.070100 ---\n",
      "Timestamp | Running Total\n",
      "-----------+---------------\n"
     ]
    },
    {
     "name": "stderr",
     "output_type": "stream",
     "text": [
      "                                                                                \r"
     ]
    },
    {
     "name": "stdout",
     "output_type": "stream",
     "text": [
      "2024-09-09 00:00:00 | 104155.33\n",
      "\n",
      "\n",
      "\n",
      "--- Running Total Updated at 2024-09-08 12:06:10.071787 ---\n",
      "Timestamp | Running Total\n",
      "-----------+---------------\n"
     ]
    },
    {
     "name": "stderr",
     "output_type": "stream",
     "text": [
      "                                                                                \r"
     ]
    },
    {
     "name": "stdout",
     "output_type": "stream",
     "text": [
      "2024-09-09 00:00:00 | 105828.48\n",
      "\n",
      "\n",
      "\n",
      "--- Running Total Updated at 2024-09-08 12:06:20.062343 ---\n",
      "Timestamp | Running Total\n",
      "-----------+---------------\n"
     ]
    },
    {
     "name": "stderr",
     "output_type": "stream",
     "text": [
      "                                                                                \r"
     ]
    },
    {
     "name": "stdout",
     "output_type": "stream",
     "text": [
      "2024-09-09 00:00:00 | 114262.19\n",
      "\n",
      "\n",
      "\n",
      "--- Running Total Updated at 2024-09-08 12:06:30.063601 ---\n",
      "Timestamp | Running Total\n",
      "-----------+---------------\n"
     ]
    },
    {
     "name": "stderr",
     "output_type": "stream",
     "text": [
      "                                                                                \r"
     ]
    },
    {
     "name": "stdout",
     "output_type": "stream",
     "text": [
      "2024-09-09 00:00:00 | 118398.77\n",
      "\n",
      "\n",
      "\n",
      "--- Running Total Updated at 2024-09-08 12:06:40.060757 ---\n",
      "Timestamp | Running Total\n",
      "-----------+---------------\n"
     ]
    },
    {
     "name": "stderr",
     "output_type": "stream",
     "text": [
      "                                                                                \r"
     ]
    },
    {
     "name": "stdout",
     "output_type": "stream",
     "text": [
      "2024-09-09 00:00:00 | 124068.79\n",
      "\n",
      "\n",
      "\n",
      "--- Running Total Updated at 2024-09-08 12:06:50.064230 ---\n",
      "Timestamp | Running Total\n",
      "-----------+---------------\n"
     ]
    },
    {
     "name": "stderr",
     "output_type": "stream",
     "text": [
      "                                                                                \r"
     ]
    },
    {
     "name": "stdout",
     "output_type": "stream",
     "text": [
      "2024-09-09 00:00:00 | 126062.03\n",
      "\n",
      "\n",
      "\n",
      "--- Running Total Updated at 2024-09-08 12:07:00.064357 ---\n",
      "Timestamp | Running Total\n",
      "-----------+---------------\n"
     ]
    },
    {
     "name": "stderr",
     "output_type": "stream",
     "text": [
      "                                                                                \r"
     ]
    },
    {
     "name": "stdout",
     "output_type": "stream",
     "text": [
      "2024-09-09 00:00:00 | 138281.64\n",
      "\n",
      "\n",
      "\n",
      "--- Running Total Updated at 2024-09-08 12:07:10.061414 ---\n",
      "Timestamp | Running Total\n",
      "-----------+---------------\n"
     ]
    },
    {
     "name": "stderr",
     "output_type": "stream",
     "text": [
      "                                                                                \r"
     ]
    },
    {
     "name": "stdout",
     "output_type": "stream",
     "text": [
      "2024-09-09 00:00:00 | 140930.30\n",
      "\n",
      "\n",
      "\n",
      "--- Running Total Updated at 2024-09-08 12:07:20.062464 ---\n",
      "Timestamp | Running Total\n",
      "-----------+---------------\n"
     ]
    },
    {
     "name": "stderr",
     "output_type": "stream",
     "text": [
      "                                                                                \r"
     ]
    },
    {
     "name": "stdout",
     "output_type": "stream",
     "text": [
      "2024-09-09 00:00:00 | 141256.52\n",
      "\n",
      "\n",
      "\n",
      "--- Running Total Updated at 2024-09-08 12:07:30.062996 ---\n",
      "Timestamp | Running Total\n",
      "-----------+---------------\n"
     ]
    },
    {
     "name": "stderr",
     "output_type": "stream",
     "text": [
      "                                                                                \r"
     ]
    },
    {
     "name": "stdout",
     "output_type": "stream",
     "text": [
      "2024-09-09 00:00:00 | 150767.82\n",
      "\n",
      "\n",
      "\n",
      "--- Running Total Updated at 2024-09-08 12:07:40.078270 ---\n",
      "Timestamp | Running Total\n",
      "-----------+---------------\n"
     ]
    },
    {
     "name": "stderr",
     "output_type": "stream",
     "text": [
      "                                                                                \r"
     ]
    },
    {
     "name": "stdout",
     "output_type": "stream",
     "text": [
      "2024-09-09 00:00:00 | 156752.06\n",
      "\n",
      "\n",
      "\n",
      "--- Running Total Updated at 2024-09-08 12:07:50.062657 ---\n",
      "Timestamp | Running Total\n",
      "-----------+---------------\n"
     ]
    },
    {
     "name": "stderr",
     "output_type": "stream",
     "text": [
      "                                                                                \r"
     ]
    },
    {
     "name": "stdout",
     "output_type": "stream",
     "text": [
      "2024-09-09 00:00:00 | 166011.66\n",
      "\n",
      "\n",
      "\n",
      "--- Running Total Updated at 2024-09-08 12:08:00.068513 ---\n",
      "Timestamp | Running Total\n",
      "-----------+---------------\n"
     ]
    },
    {
     "name": "stderr",
     "output_type": "stream",
     "text": [
      "                                                                                \r"
     ]
    },
    {
     "name": "stdout",
     "output_type": "stream",
     "text": [
      "2024-09-09 00:00:00 | 169964.91\n",
      "\n",
      "\n",
      "\n",
      "--- Running Total Updated at 2024-09-08 12:08:10.068148 ---\n",
      "Timestamp | Running Total\n",
      "-----------+---------------\n"
     ]
    },
    {
     "name": "stderr",
     "output_type": "stream",
     "text": [
      "                                                                                \r"
     ]
    },
    {
     "name": "stdout",
     "output_type": "stream",
     "text": [
      "2024-09-09 00:00:00 | 171387.55\n",
      "\n",
      "\n",
      "\n",
      "--- Running Total Updated at 2024-09-08 12:08:20.064557 ---\n",
      "Timestamp | Running Total\n",
      "-----------+---------------\n"
     ]
    },
    {
     "name": "stderr",
     "output_type": "stream",
     "text": [
      "                                                                                \r"
     ]
    },
    {
     "name": "stdout",
     "output_type": "stream",
     "text": [
      "2024-09-09 00:00:00 | 171451.55\n",
      "\n",
      "\n",
      "\n",
      "--- Running Total Updated at 2024-09-08 12:08:30.060778 ---\n",
      "Timestamp | Running Total\n",
      "-----------+---------------\n"
     ]
    },
    {
     "name": "stderr",
     "output_type": "stream",
     "text": [
      "                                                                                \r"
     ]
    },
    {
     "name": "stdout",
     "output_type": "stream",
     "text": [
      "2024-09-09 00:00:00 | 172362.54\n",
      "\n",
      "\n",
      "\n",
      "--- Running Total Updated at 2024-09-08 12:08:40.077804 ---\n",
      "Timestamp | Running Total\n",
      "-----------+---------------\n"
     ]
    },
    {
     "name": "stderr",
     "output_type": "stream",
     "text": [
      "                                                                                \r"
     ]
    },
    {
     "name": "stdout",
     "output_type": "stream",
     "text": [
      "2024-09-09 00:00:00 | 173644.18\n",
      "\n",
      "\n",
      "\n",
      "--- Running Total Updated at 2024-09-08 12:08:50.056648 ---\n",
      "Timestamp | Running Total\n",
      "-----------+---------------\n"
     ]
    },
    {
     "name": "stderr",
     "output_type": "stream",
     "text": [
      "                                                                                \r"
     ]
    },
    {
     "name": "stdout",
     "output_type": "stream",
     "text": [
      "2024-09-09 00:00:00 | 173838.85\n",
      "\n",
      "\n",
      "\n",
      "--- Running Total Updated at 2024-09-08 12:09:00.065711 ---\n",
      "Timestamp | Running Total\n",
      "-----------+---------------\n"
     ]
    },
    {
     "name": "stderr",
     "output_type": "stream",
     "text": [
      "                                                                                \r"
     ]
    },
    {
     "name": "stdout",
     "output_type": "stream",
     "text": [
      "2024-09-09 00:00:00 | 179820.29\n",
      "\n",
      "\n",
      "\n",
      "--- Running Total Updated at 2024-09-08 12:09:10.063228 ---\n",
      "Timestamp | Running Total\n",
      "-----------+---------------\n"
     ]
    },
    {
     "name": "stderr",
     "output_type": "stream",
     "text": [
      "                                                                                \r"
     ]
    },
    {
     "name": "stdout",
     "output_type": "stream",
     "text": [
      "2024-09-09 00:00:00 | 180236.27\n",
      "\n",
      "\n",
      "\n",
      "--- Running Total Updated at 2024-09-08 12:09:20.061261 ---\n",
      "Timestamp | Running Total\n",
      "-----------+---------------\n"
     ]
    },
    {
     "name": "stderr",
     "output_type": "stream",
     "text": [
      "                                                                                \r"
     ]
    },
    {
     "name": "stdout",
     "output_type": "stream",
     "text": [
      "2024-09-09 00:00:00 | 180320.78\n",
      "\n",
      "\n",
      "\n",
      "--- Running Total Updated at 2024-09-08 12:09:30.064346 ---\n",
      "Timestamp | Running Total\n",
      "-----------+---------------\n"
     ]
    },
    {
     "name": "stderr",
     "output_type": "stream",
     "text": [
      "                                                                                \r"
     ]
    },
    {
     "name": "stdout",
     "output_type": "stream",
     "text": [
      "2024-09-09 00:00:00 | 185584.99\n",
      "\n",
      "\n",
      "\n",
      "--- Running Total Updated at 2024-09-08 12:09:40.061113 ---\n",
      "Timestamp | Running Total\n",
      "-----------+---------------\n"
     ]
    },
    {
     "name": "stderr",
     "output_type": "stream",
     "text": [
      "                                                                                \r"
     ]
    },
    {
     "name": "stdout",
     "output_type": "stream",
     "text": [
      "2024-09-09 00:00:00 | 187696.43\n",
      "\n",
      "\n",
      "\n",
      "--- Running Total Updated at 2024-09-08 12:09:50.057323 ---\n",
      "Timestamp | Running Total\n",
      "-----------+---------------\n"
     ]
    },
    {
     "name": "stderr",
     "output_type": "stream",
     "text": [
      "                                                                                \r"
     ]
    },
    {
     "name": "stdout",
     "output_type": "stream",
     "text": [
      "2024-09-09 00:00:00 | 193183.73\n",
      "\n",
      "\n",
      "\n",
      "--- Running Total Updated at 2024-09-08 12:10:00.062529 ---\n",
      "Timestamp | Running Total\n",
      "-----------+---------------\n"
     ]
    },
    {
     "name": "stderr",
     "output_type": "stream",
     "text": [
      "                                                                                \r"
     ]
    },
    {
     "name": "stdout",
     "output_type": "stream",
     "text": [
      "2024-09-09 00:00:00 | 197767.26\n",
      "\n",
      "\n",
      "\n",
      "--- Running Total Updated at 2024-09-08 12:10:10.063871 ---\n",
      "Timestamp | Running Total\n",
      "-----------+---------------\n"
     ]
    },
    {
     "name": "stderr",
     "output_type": "stream",
     "text": [
      "                                                                                \r"
     ]
    },
    {
     "name": "stdout",
     "output_type": "stream",
     "text": [
      "2024-09-09 00:00:00 | 201302.28\n",
      "\n",
      "\n",
      "\n",
      "--- Running Total Updated at 2024-09-08 12:10:20.059329 ---\n",
      "Timestamp | Running Total\n",
      "-----------+---------------\n"
     ]
    },
    {
     "name": "stderr",
     "output_type": "stream",
     "text": [
      "                                                                                \r"
     ]
    },
    {
     "name": "stdout",
     "output_type": "stream",
     "text": [
      "2024-09-09 00:00:00 | 204972.83\n",
      "\n",
      "\n",
      "\n",
      "--- Running Total Updated at 2024-09-08 12:10:30.057202 ---\n",
      "Timestamp | Running Total\n",
      "-----------+---------------\n"
     ]
    },
    {
     "name": "stderr",
     "output_type": "stream",
     "text": [
      "                                                                                \r"
     ]
    },
    {
     "name": "stdout",
     "output_type": "stream",
     "text": [
      "2024-09-09 00:00:00 | 210668.13\n",
      "\n",
      "\n",
      "\n",
      "--- Running Total Updated at 2024-09-08 12:10:40.069974 ---\n",
      "Timestamp | Running Total\n",
      "-----------+---------------\n"
     ]
    },
    {
     "name": "stderr",
     "output_type": "stream",
     "text": [
      "                                                                                \r"
     ]
    },
    {
     "name": "stdout",
     "output_type": "stream",
     "text": [
      "2024-09-09 00:00:00 | 214678.64\n",
      "\n",
      "\n",
      "\n",
      "--- Running Total Updated at 2024-09-08 12:10:50.058237 ---\n",
      "Timestamp | Running Total\n",
      "-----------+---------------\n"
     ]
    },
    {
     "name": "stderr",
     "output_type": "stream",
     "text": [
      "                                                                                \r"
     ]
    },
    {
     "name": "stdout",
     "output_type": "stream",
     "text": [
      "2024-09-09 00:00:00 | 217376.24\n",
      "\n",
      "\n",
      "\n",
      "--- Running Total Updated at 2024-09-08 12:11:00.064855 ---\n",
      "Timestamp | Running Total\n",
      "-----------+---------------\n"
     ]
    },
    {
     "name": "stderr",
     "output_type": "stream",
     "text": [
      "                                                                                \r"
     ]
    },
    {
     "name": "stdout",
     "output_type": "stream",
     "text": [
      "2024-09-09 00:00:00 | 217873.16\n",
      "\n",
      "\n",
      "\n",
      "--- Running Total Updated at 2024-09-08 12:11:10.059693 ---\n",
      "Timestamp | Running Total\n",
      "-----------+---------------\n"
     ]
    },
    {
     "name": "stderr",
     "output_type": "stream",
     "text": [
      "                                                                                \r"
     ]
    },
    {
     "name": "stdout",
     "output_type": "stream",
     "text": [
      "2024-09-09 00:00:00 | 219048.48\n",
      "\n",
      "\n",
      "\n",
      "--- Running Total Updated at 2024-09-08 12:11:20.061516 ---\n",
      "Timestamp | Running Total\n",
      "-----------+---------------\n"
     ]
    },
    {
     "name": "stderr",
     "output_type": "stream",
     "text": [
      "                                                                                \r"
     ]
    },
    {
     "name": "stdout",
     "output_type": "stream",
     "text": [
      "2024-09-09 00:00:00 | 219226.18\n",
      "\n",
      "\n",
      "\n",
      "--- Running Total Updated at 2024-09-08 12:11:30.061529 ---\n",
      "Timestamp | Running Total\n",
      "-----------+---------------\n"
     ]
    },
    {
     "name": "stderr",
     "output_type": "stream",
     "text": [
      "                                                                                \r"
     ]
    },
    {
     "name": "stdout",
     "output_type": "stream",
     "text": [
      "2024-09-09 00:00:00 | 220402.42\n",
      "\n",
      "\n",
      "\n",
      "--- Running Total Updated at 2024-09-08 12:11:40.071346 ---\n",
      "Timestamp | Running Total\n",
      "-----------+---------------\n"
     ]
    },
    {
     "name": "stderr",
     "output_type": "stream",
     "text": [
      "                                                                                \r"
     ]
    },
    {
     "name": "stdout",
     "output_type": "stream",
     "text": [
      "2024-09-09 00:00:00 | 220419.22\n",
      "\n",
      "\n",
      "\n",
      "--- Running Total Updated at 2024-09-08 12:11:50.060234 ---\n",
      "Timestamp | Running Total\n",
      "-----------+---------------\n"
     ]
    },
    {
     "name": "stderr",
     "output_type": "stream",
     "text": [
      "                                                                                \r"
     ]
    },
    {
     "name": "stdout",
     "output_type": "stream",
     "text": [
      "2024-09-09 00:00:00 | 227316.91\n",
      "\n",
      "\n",
      "\n",
      "--- Running Total Updated at 2024-09-08 12:12:00.060636 ---\n",
      "Timestamp | Running Total\n",
      "-----------+---------------\n"
     ]
    },
    {
     "name": "stderr",
     "output_type": "stream",
     "text": [
      "                                                                                \r"
     ]
    },
    {
     "name": "stdout",
     "output_type": "stream",
     "text": [
      "2024-09-09 00:00:00 | 229724.23\n",
      "\n",
      "\n",
      "\n",
      "--- Running Total Updated at 2024-09-08 12:12:10.066607 ---\n",
      "Timestamp | Running Total\n",
      "-----------+---------------\n"
     ]
    },
    {
     "name": "stderr",
     "output_type": "stream",
     "text": [
      "                                                                                \r"
     ]
    },
    {
     "name": "stdout",
     "output_type": "stream",
     "text": [
      "2024-09-09 00:00:00 | 238584.82\n",
      "\n",
      "\n",
      "\n",
      "--- Running Total Updated at 2024-09-08 12:12:20.058638 ---\n",
      "Timestamp | Running Total\n",
      "-----------+---------------\n"
     ]
    },
    {
     "name": "stderr",
     "output_type": "stream",
     "text": [
      "                                                                                \r"
     ]
    },
    {
     "name": "stdout",
     "output_type": "stream",
     "text": [
      "2024-09-09 00:00:00 | 248875.30\n",
      "\n",
      "\n",
      "\n",
      "--- Running Total Updated at 2024-09-08 12:12:30.066240 ---\n",
      "Timestamp | Running Total\n",
      "-----------+---------------\n"
     ]
    },
    {
     "name": "stderr",
     "output_type": "stream",
     "text": [
      "                                                                                \r"
     ]
    },
    {
     "name": "stdout",
     "output_type": "stream",
     "text": [
      "2024-09-09 00:00:00 | 251107.60\n",
      "\n",
      "\n",
      "\n",
      "--- Running Total Updated at 2024-09-08 12:12:40.073911 ---\n",
      "Timestamp | Running Total\n",
      "-----------+---------------\n"
     ]
    },
    {
     "name": "stderr",
     "output_type": "stream",
     "text": [
      "                                                                                \r"
     ]
    },
    {
     "name": "stdout",
     "output_type": "stream",
     "text": [
      "2024-09-09 00:00:00 | 252097.15\n",
      "\n",
      "\n",
      "\n",
      "--- Running Total Updated at 2024-09-08 12:12:50.058785 ---\n",
      "Timestamp | Running Total\n",
      "-----------+---------------\n"
     ]
    },
    {
     "name": "stderr",
     "output_type": "stream",
     "text": [
      "                                                                                \r"
     ]
    },
    {
     "name": "stdout",
     "output_type": "stream",
     "text": [
      "2024-09-09 00:00:00 | 253088.88\n",
      "\n",
      "\n",
      "\n",
      "--- Running Total Updated at 2024-09-08 12:13:00.058598 ---\n",
      "Timestamp | Running Total\n",
      "-----------+---------------\n"
     ]
    },
    {
     "name": "stderr",
     "output_type": "stream",
     "text": [
      "                                                                                \r"
     ]
    },
    {
     "name": "stdout",
     "output_type": "stream",
     "text": [
      "2024-09-09 00:00:00 | 255109.65\n",
      "\n",
      "\n",
      "\n",
      "--- Running Total Updated at 2024-09-08 12:13:10.064578 ---\n",
      "Timestamp | Running Total\n",
      "-----------+---------------\n"
     ]
    },
    {
     "name": "stderr",
     "output_type": "stream",
     "text": [
      "                                                                                \r"
     ]
    },
    {
     "name": "stdout",
     "output_type": "stream",
     "text": [
      "2024-09-09 00:00:00 | 261683.93\n",
      "\n",
      "\n",
      "\n",
      "--- Running Total Updated at 2024-09-08 12:13:20.053787 ---\n",
      "Timestamp | Running Total\n",
      "-----------+---------------\n"
     ]
    },
    {
     "name": "stderr",
     "output_type": "stream",
     "text": [
      "                                                                                \r"
     ]
    },
    {
     "name": "stdout",
     "output_type": "stream",
     "text": [
      "2024-09-09 00:00:00 | 263624.45\n",
      "\n",
      "\n",
      "\n",
      "--- Running Total Updated at 2024-09-08 12:13:30.054058 ---\n",
      "Timestamp | Running Total\n",
      "-----------+---------------\n"
     ]
    },
    {
     "name": "stderr",
     "output_type": "stream",
     "text": [
      "                                                                                \r"
     ]
    },
    {
     "name": "stdout",
     "output_type": "stream",
     "text": [
      "2024-09-09 00:00:00 | 265820.79\n",
      "\n",
      "\n",
      "\n",
      "--- Running Total Updated at 2024-09-08 12:13:40.069797 ---\n",
      "Timestamp | Running Total\n",
      "-----------+---------------\n"
     ]
    },
    {
     "name": "stderr",
     "output_type": "stream",
     "text": [
      "                                                                                \r"
     ]
    },
    {
     "name": "stdout",
     "output_type": "stream",
     "text": [
      "2024-09-09 00:00:00 | 266737.27\n",
      "\n",
      "\n",
      "\n",
      "--- Running Total Updated at 2024-09-08 12:13:50.058562 ---\n",
      "Timestamp | Running Total\n",
      "-----------+---------------\n"
     ]
    },
    {
     "name": "stderr",
     "output_type": "stream",
     "text": [
      "                                                                                \r"
     ]
    },
    {
     "name": "stdout",
     "output_type": "stream",
     "text": [
      "2024-09-09 00:00:00 | 271876.36\n",
      "\n",
      "\n",
      "\n",
      "--- Running Total Updated at 2024-09-08 12:14:00.060879 ---\n",
      "Timestamp | Running Total\n",
      "-----------+---------------\n"
     ]
    },
    {
     "name": "stderr",
     "output_type": "stream",
     "text": [
      "                                                                                \r"
     ]
    },
    {
     "name": "stdout",
     "output_type": "stream",
     "text": [
      "2024-09-09 00:00:00 | 274130.66\n",
      "\n",
      "\n",
      "\n",
      "--- Running Total Updated at 2024-09-08 12:14:10.070894 ---\n",
      "Timestamp | Running Total\n",
      "-----------+---------------\n"
     ]
    },
    {
     "name": "stderr",
     "output_type": "stream",
     "text": [
      "                                                                                \r"
     ]
    },
    {
     "name": "stdout",
     "output_type": "stream",
     "text": [
      "2024-09-09 00:00:00 | 276283.58\n",
      "\n",
      "\n"
     ]
    }
   ],
   "source": [
    "# Start the streaming query\n",
    "query = sales_df.writeStream \\\n",
    "    .outputMode(\"complete\") \\\n",
    "    .foreachBatch(save_to_postgres) \\\n",
    "    .trigger(processingTime='10 seconds') \\\n",
    "    .start()\n",
    "\n",
    "query.awaitTermination()"
   ]
  },
  {
   "cell_type": "code",
   "execution_count": null,
   "id": "88b45512-d03a-4a10-9362-88d770f2ea8c",
   "metadata": {},
   "outputs": [],
   "source": []
  }
 ],
 "metadata": {
  "kernelspec": {
   "display_name": "Python 3 (ipykernel)",
   "language": "python",
   "name": "python3"
  },
  "language_info": {
   "codemirror_mode": {
    "name": "ipython",
    "version": 3
   },
   "file_extension": ".py",
   "mimetype": "text/x-python",
   "name": "python",
   "nbconvert_exporter": "python",
   "pygments_lexer": "ipython3",
   "version": "3.11.6"
  }
 },
 "nbformat": 4,
 "nbformat_minor": 5
}
